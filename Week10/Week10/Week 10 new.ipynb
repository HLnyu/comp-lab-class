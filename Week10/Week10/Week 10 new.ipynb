{
 "cells": [
  {
   "cell_type": "code",
   "execution_count": 2,
   "metadata": {},
   "outputs": [],
   "source": [
    "# Ignore this block -- it's for the documentation build\n",
    "try:\n",
    "    import os, sys\n",
    "    sys.path.insert(1, os.path.abspath('/home/runner/work/psi4/psi4/code/objdir/stage//usr/local/psi4/lib/'))\n",
    "except ImportError:\n",
    "    pass\n",
    "\n",
    "import psi4\n",
    "import numpy as np\n",
    "import matplotlib.pyplot as plt\n",
    "from scipy.optimize import curve_fit"
   ]
  },
  {
   "cell_type": "code",
   "execution_count": 17,
   "metadata": {},
   "outputs": [
    {
     "name": "stdout",
     "output_type": "stream",
     "text": [
      "CPU times: user 314 ms, sys: 44.6 ms, total: 358 ms\n",
      "Wall time: 9.12 s\n"
     ]
    },
    {
     "data": {
      "text/plain": [
       "-76.0266327350902"
      ]
     },
     "execution_count": 17,
     "metadata": {},
     "output_type": "execute_result"
    }
   ],
   "source": [
    "%%time\n",
    "#! Sample HF/cc-pVDZ H2O Computation\n",
    "psi4.core.set_output_file('H2Ooutput.dat', False)\n",
    "psi4.set_memory('500 MB')\n",
    "\n",
    "h2o = psi4.geometry(\"\"\"\n",
    "O\n",
    "H 1 0.96\n",
    "H 1 0.96 2 104.5\n",
    "\"\"\")\n",
    "\n",
    "psi4.energy('scf/cc-pvdz')"
   ]
  },
  {
   "cell_type": "code",
   "execution_count": 18,
   "metadata": {},
   "outputs": [
    {
     "name": "stdout",
     "output_type": "stream",
     "text": [
      "CPU times: user 291 ms, sys: 17.8 ms, total: 309 ms\n",
      "Wall time: 448 ms\n"
     ]
    },
    {
     "data": {
      "text/plain": [
       "-38.92533462893707"
      ]
     },
     "execution_count": 18,
     "metadata": {},
     "output_type": "execute_result"
    }
   ],
   "source": [
    "%%time\n",
    "#! Sample UHF/6-31G** CH2 Computation\n",
    "psi4.core.set_output_file('CH2output.dat', False)\n",
    "R = 1.075\n",
    "A = 133.93\n",
    "\n",
    "ch2 = psi4.geometry(\"\"\"\n",
    "0 3\n",
    "C\n",
    "H 1 {0}\n",
    "H 1 {0} 2 {1}\n",
    "\"\"\".format(R, A)\n",
    ")\n",
    "\n",
    "psi4.set_options({'reference': 'uhf'})\n",
    "psi4.energy('scf/6-31g**')"
   ]
  },
  {
   "cell_type": "code",
   "execution_count": 19,
   "metadata": {},
   "outputs": [
    {
     "name": "stdout",
     "output_type": "stream",
     "text": [
      "Optimizer: Optimization complete!\n",
      "CPU times: user 883 ms, sys: 40.2 ms, total: 923 ms\n",
      "Wall time: 32.6 s\n"
     ]
    },
    {
     "data": {
      "text/plain": [
       "-76.02703272937481"
      ]
     },
     "execution_count": 19,
     "metadata": {},
     "output_type": "execute_result"
    }
   ],
   "source": [
    "%%time\n",
    "psi4.core.set_output_file('H2O_3_output.dat', False)\n",
    "psi4.set_options({'reference': 'rhf'})\n",
    "psi4.optimize('scf/cc-pvdz', molecule=h2o)"
   ]
  },
  {
   "cell_type": "code",
   "execution_count": 20,
   "metadata": {},
   "outputs": [
    {
     "name": "stdout",
     "output_type": "stream",
     "text": [
      "CPU times: user 1.02 s, sys: 30.8 ms, total: 1.05 s\n",
      "Wall time: 1.2 s\n"
     ]
    }
   ],
   "source": [
    "%%time\n",
    "psi4.core.set_output_file('H2O_frequency_output.dat', False)\n",
    "scf_e, scf_wfn = psi4.frequency('scf/cc-pvdz', molecule=h2o, return_wfn=True)"
   ]
  },
  {
   "cell_type": "code",
   "execution_count": 21,
   "metadata": {},
   "outputs": [
    {
     "name": "stdout",
     "output_type": "stream",
     "text": [
      "CPU times: user 1.31 ms, sys: 0 ns, total: 1.31 ms\n",
      "Wall time: 2.66 ms\n"
     ]
    }
   ],
   "source": [
    "%%time\n",
    "psi4.core.set_output_file('Analysis_output.dat', False)\n",
    "# Example SAPT computation for ethene*ethyne (*i.e.*, ethylene*acetylene).\n",
    "# Test case 16 from S22 Database\n",
    "\n",
    "dimer = psi4.geometry(\"\"\"\n",
    "0 1\n",
    "C   0.000000  -0.667578  -2.124659\n",
    "C   0.000000   0.667578  -2.124659\n",
    "H   0.923621  -1.232253  -2.126185\n",
    "H  -0.923621  -1.232253  -2.126185\n",
    "H  -0.923621   1.232253  -2.126185\n",
    "H   0.923621   1.232253  -2.126185\n",
    "--\n",
    "0 1\n",
    "C   0.000000   0.000000   2.900503\n",
    "C   0.000000   0.000000   1.693240\n",
    "H   0.000000   0.000000   0.627352\n",
    "H   0.000000   0.000000   3.963929\n",
    "units angstrom\n",
    "\"\"\")"
   ]
  },
  {
   "cell_type": "code",
   "execution_count": 22,
   "metadata": {},
   "outputs": [
    {
     "name": "stdout",
     "output_type": "stream",
     "text": [
      "CP-corrected CCSD(T)/aug-cc-pVDZ Interaction Energies\n",
      "\n",
      "\n",
      "          R [Ang]                 E_int [kcal/mol]       \n",
      "---------------------------------------------------------\n",
      "            2.5                        0.757716\n",
      "            3.0                        0.015685\n",
      "            4.0                        -0.016266\n",
      "CPU times: user 6.05 s, sys: 1.5 s, total: 7.55 s\n",
      "Wall time: 13.7 s\n"
     ]
    }
   ],
   "source": [
    "%%time\n",
    "psi4.core.set_output_file('Ne_output.dat', False)\n",
    "#! Example potential energy surface scan and CP-correction for Ne2\n",
    "\n",
    "ne2_geometry = \"\"\"\n",
    "Ne\n",
    "--\n",
    "Ne 1 {0}\n",
    "\"\"\"\n",
    "\n",
    "Rvals = [2.5, 3.0, 4.0]\n",
    "\n",
    "psi4.set_options({'freeze_core': 'true'})\n",
    "\n",
    "# Initialize a blank dictionary of counterpoise corrected energies\n",
    "# (Need this for the syntax below to work)\n",
    "\n",
    "ecp = {}\n",
    "\n",
    "for R in Rvals:\n",
    "    ne2 = psi4.geometry(ne2_geometry.format(R))\n",
    "    ecp[R] = psi4.energy('ccsd(t)/aug-cc-pvdz', bsse_type='cp', molecule=ne2)\n",
    "\n",
    "# Prints to screen\n",
    "print(\"CP-corrected CCSD(T)/aug-cc-pVDZ Interaction Energies\\n\\n\")\n",
    "print(\"          R [Ang]                 E_int [kcal/mol]       \")\n",
    "print(\"---------------------------------------------------------\")\n",
    "for R in Rvals:\n",
    "    e = ecp[R] * psi4.constants.hartree2kcalmol\n",
    "    print(\"            {:3.1f}                        {:1.6f}\".format(R, e))\n",
    "\n",
    "# Prints to output.dat\n",
    "psi4.core.print_out(\"CP-corrected CCSD(T)/aug-cc-pVDZ Interaction Energies\\n\\n\")\n",
    "psi4.core.print_out(\"          R [Ang]                 E_int [kcal/mol]       \\n\")\n",
    "psi4.core.print_out(\"---------------------------------------------------------\\n\")\n",
    "for R in Rvals:\n",
    "    e = ecp[R] * psi4.constants.hartree2kcalmol\n",
    "    psi4.core.print_out(\"            {:3.1f}                        {:1.6f}\\n\".format(R, e))"
   ]
  },
  {
   "cell_type": "code",
   "execution_count": 23,
   "metadata": {},
   "outputs": [
    {
     "name": "stdout",
     "output_type": "stream",
     "text": [
      "CP-corrected CCSD(T)/aug-cc-pVDZ Interaction Energies\n",
      "\n",
      "\n",
      "          R [Ang]                 E_int [kcal/mol]       \n",
      "---------------------------------------------------------\n",
      "            3.5                        0.168852\n",
      "            3.8                        -0.069952\n",
      "            4.0                        -0.123122\n",
      "            4.2                        -0.116537\n",
      "            4.5                        -0.095162\n",
      "            4.8                        -0.073663\n",
      "            5.0                        -0.055927\n",
      "            5.2                        -0.042277\n",
      "            5.5                        -0.032054\n",
      "            5.8                        -0.024469\n",
      "CPU times: user 1min 28s, sys: 5.95 s, total: 1min 34s\n",
      "Wall time: 3min 54s\n"
     ]
    }
   ],
   "source": [
    "%%time\n",
    "import numpy\n",
    "\n",
    "psi4.core.set_output_file('Ar_output.dat', False)\n",
    "ar2_geometry = \"\"\"\n",
    "Ar\n",
    "--\n",
    "Ar 1 {0}\n",
    "\"\"\"\n",
    "\n",
    "Rvals = numpy.arange(3.5, 6, 0.25) \n",
    "\n",
    "psi4.set_options({'freeze_core': 'true'})\n",
    "\n",
    "# Initialize a blank dictionary of counterpoise corrected energies\n",
    "# (Need this for the syntax below to work)\n",
    "\n",
    "ecp = {}\n",
    "\n",
    "for R in Rvals:\n",
    "    ar2 = psi4.geometry(ar2_geometry.format(R))\n",
    "    ecp[R] = psi4.energy('ccsd(t)/aug-cc-pvdz', bsse_type='cp', molecule=ar2)\n",
    "\n",
    "# Prints to screen\n",
    "print(\"CP-corrected CCSD(T)/aug-cc-pVDZ Interaction Energies\\n\\n\")\n",
    "print(\"          R [Ang]                 E_int [kcal/mol]       \")\n",
    "print(\"---------------------------------------------------------\")\n",
    "for R in Rvals:\n",
    "    e = ecp[R] * psi4.constants.hartree2kcalmol\n",
    "    print(\"            {:3.1f}                        {:1.6f}\".format(R, e))\n",
    "\n",
    "# Prints to output.dat\n",
    "psi4.core.print_out(\"CP-corrected CCSD(T)/aug-cc-pVDZ Interaction Energies\\n\\n\")\n",
    "psi4.core.print_out(\"          R [Ang]                 E_int [kcal/mol]       \\n\")\n",
    "psi4.core.print_out(\"---------------------------------------------------------\\n\")\n",
    "for R in Rvals:\n",
    "    e = ecp[R] * psi4.constants.hartree2kcalmol\n",
    "    psi4.core.print_out(\"            {:3.1f}                        {:1.6f}\\n\".format(R, e))"
   ]
  },
  {
   "cell_type": "code",
   "execution_count": 4,
   "metadata": {},
   "outputs": [],
   "source": [
    "Energy=[0.168852,0.069952,-0.123122,-0.116537,-0.095162, -0.073663,-0.055927,-0.042277,-0.032054,-0.024469]\n",
    "Rvals=[3.5,3.75,4.0,4.25,4.5,4.75,5.0,5.25,5.5,5.75]"
   ]
  },
  {
   "cell_type": "code",
   "execution_count": 5,
   "metadata": {},
   "outputs": [],
   "source": [
    "# define the LJ potential\n",
    "def lj(r,sigma,eps):\n",
    "    return 4*eps*((sigma/r)**12-(sigma/r)**6)"
   ]
  },
  {
   "cell_type": "code",
   "execution_count": 7,
   "metadata": {},
   "outputs": [
    {
     "name": "stdout",
     "output_type": "stream",
     "text": [
      "[3.69999794 0.08996612]\n"
     ]
    },
    {
     "data": {
      "image/png": "[encoded data removed]",
      "text/plain": [
       "<Figure size 640x480 with 1 Axes>"
      ]
     },
     "metadata": {},
     "output_type": "display_data"
    }
   ],
   "source": [
    "# figure 1  -  energy vs r\n",
    "fig = plt.figure()\n",
    "# scatter plot\n",
    "plt.scatter(Rvals,Energy,label='CCSD(T)')\n",
    "# fit\n",
    "popt, pcov = curve_fit(lj, Rvals, Energy, p0 = [4,1.2])\n",
    "\n",
    "print (popt)\n",
    "# plot fit, dashed line, colorblind friendly, red \n",
    "r = np.linspace(3.5,5.75,100)\n",
    "plt.plot(r,lj(r,*popt),'--',color='#E69F00',label='Leonard-Jones Potential fit')\n",
    "\n",
    "# labels, x unit is angstrom, y unit is kcal/mol\n",
    "plt.xlabel('r (Å)',fontsize=12)\n",
    "plt.ylabel('Energy (kcal/mol)',fontsize=12)\n",
    "# legend\n",
    "plt.legend(frameon=False,fontsize=12)\n",
    "\n",
    "# two lines of title\n",
    "plt.text(x=0.5, y=0.88, s=\"Ar-Ar Interaction\", fontsize=18, ha=\"center\", transform=fig.transFigure)\n",
    "plt.text(x=0.5, y=0.82, s= \"psi4\", fontsize=11, ha=\"center\", transform=fig.transFigure)\n",
    "plt.subplots_adjust(top=0.8, wspace=0.3)\n"
   ]
  },
  {
   "cell_type": "code",
   "execution_count": null,
   "metadata": {},
   "outputs": [],
   "source": []
  }
 ],
 "metadata": {
  "kernelspec": {
   "display_name": "lab_env",
   "language": "python",
   "name": "lab_env"
  },
  "language_info": {
   "codemirror_mode": {
    "name": "ipython",
    "version": 3
   },
   "file_extension": ".py",
   "mimetype": "text/x-python",
   "name": "python",
   "nbconvert_exporter": "python",
   "pygments_lexer": "ipython3",
   "version": "3.9.12"
  }
 },
 "nbformat": 4,
 "nbformat_minor": 4
}
